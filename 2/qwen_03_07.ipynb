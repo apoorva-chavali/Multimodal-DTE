{
 "cells": [
  {
   "cell_type": "code",
   "execution_count": 102,
   "id": "a89dc87b-fb4e-4925-ab89-dedbd9df2677",
   "metadata": {},
   "outputs": [
    {
     "name": "stderr",
     "output_type": "stream",
     "text": [
      "huggingface/tokenizers: The current process just got forked, after parallelism has already been used. Disabling parallelism to avoid deadlocks...\n",
      "To disable this warning, you can either:\n",
      "\t- Avoid using `tokenizers` before the fork if possible\n",
      "\t- Explicitly set the environment variable TOKENIZERS_PARALLELISM=(true | false)\n"
     ]
    },
    {
     "name": "stdout",
     "output_type": "stream",
     "text": [
      "Defaulting to user installation because normal site-packages is not writeable\n",
      "Collecting git+https://github.com/huggingface/transformers\n",
      "  Cloning https://github.com/huggingface/transformers to /localscratch-nvme/3210831/pip-req-build-i9u65gf4\n",
      "  Running command git clone --filter=blob:none --quiet https://github.com/huggingface/transformers /localscratch-nvme/3210831/pip-req-build-i9u65gf4\n",
      "  Resolved https://github.com/huggingface/transformers to commit e68ebb695f9d1d990462397e284e79d8729aafea\n",
      "  Installing build dependencies ... \u001b[?25ldone\n",
      "\u001b[?25h  Getting requirements to build wheel ... \u001b[?25ldone\n",
      "\u001b[?25h  Preparing metadata (pyproject.toml) ... \u001b[?25ldone\n",
      "\u001b[?25hRequirement already satisfied: accelerate in /home/apoorvachavali/.local/lib/python3.11/site-packages (1.8.1)\n",
      "Requirement already satisfied: filelock in /home/apoorvachavali/.local/lib/python3.11/site-packages (from transformers==4.54.0.dev0) (3.18.0)\n",
      "Requirement already satisfied: huggingface-hub<1.0,>=0.30.0 in /home/apoorvachavali/.local/lib/python3.11/site-packages (from transformers==4.54.0.dev0) (0.33.1)\n",
      "Requirement already satisfied: numpy>=1.17 in /home/apoorvachavali/.local/lib/python3.11/site-packages (from transformers==4.54.0.dev0) (2.1.3)\n",
      "Requirement already satisfied: packaging>=20.0 in /apps/common/software/Miniforge3/24.11.3-0-jupyter-base/lib/python3.11/site-packages (from transformers==4.54.0.dev0) (25.0)\n",
      "Requirement already satisfied: pyyaml>=5.1 in /apps/common/software/Miniforge3/24.11.3-0-jupyter-base/lib/python3.11/site-packages (from transformers==4.54.0.dev0) (6.0.2)\n",
      "Requirement already satisfied: regex!=2019.12.17 in /home/apoorvachavali/.local/lib/python3.11/site-packages (from transformers==4.54.0.dev0) (2024.11.6)\n",
      "Requirement already satisfied: requests in /apps/common/software/Miniforge3/24.11.3-0-jupyter-base/lib/python3.11/site-packages (from transformers==4.54.0.dev0) (2.32.3)\n",
      "Requirement already satisfied: tokenizers<0.22,>=0.21 in /home/apoorvachavali/.local/lib/python3.11/site-packages (from transformers==4.54.0.dev0) (0.21.2)\n",
      "Requirement already satisfied: safetensors>=0.4.3 in /home/apoorvachavali/.local/lib/python3.11/site-packages (from transformers==4.54.0.dev0) (0.5.3)\n",
      "Requirement already satisfied: tqdm>=4.27 in /apps/common/software/Miniforge3/24.11.3-0-jupyter-base/lib/python3.11/site-packages (from transformers==4.54.0.dev0) (4.67.1)\n",
      "Requirement already satisfied: fsspec>=2023.5.0 in /home/apoorvachavali/.local/lib/python3.11/site-packages (from huggingface-hub<1.0,>=0.30.0->transformers==4.54.0.dev0) (2025.3.0)\n",
      "Requirement already satisfied: typing-extensions>=3.7.4.3 in /apps/common/software/Miniforge3/24.11.3-0-jupyter-base/lib/python3.11/site-packages (from huggingface-hub<1.0,>=0.30.0->transformers==4.54.0.dev0) (4.13.2)\n",
      "Requirement already satisfied: hf-xet<2.0.0,>=1.1.2 in /home/apoorvachavali/.local/lib/python3.11/site-packages (from huggingface-hub<1.0,>=0.30.0->transformers==4.54.0.dev0) (1.1.5)\n",
      "Requirement already satisfied: psutil in /apps/common/software/Miniforge3/24.11.3-0-jupyter-base/lib/python3.11/site-packages (from accelerate) (7.0.0)\n",
      "Requirement already satisfied: torch>=2.0.0 in /home/apoorvachavali/.local/lib/python3.11/site-packages (from accelerate) (2.7.1)\n",
      "Requirement already satisfied: sympy>=1.13.3 in /apps/common/software/Miniforge3/24.11.3-0-jupyter-base/lib/python3.11/site-packages (from torch>=2.0.0->accelerate) (1.14.0)\n",
      "Requirement already satisfied: networkx in /home/apoorvachavali/.local/lib/python3.11/site-packages (from torch>=2.0.0->accelerate) (3.5)\n",
      "Requirement already satisfied: jinja2 in /apps/common/software/Miniforge3/24.11.3-0-jupyter-base/lib/python3.11/site-packages (from torch>=2.0.0->accelerate) (3.1.6)\n",
      "Requirement already satisfied: nvidia-cuda-nvrtc-cu12==12.6.77 in /home/apoorvachavali/.local/lib/python3.11/site-packages (from torch>=2.0.0->accelerate) (12.6.77)\n",
      "Requirement already satisfied: nvidia-cuda-runtime-cu12==12.6.77 in /home/apoorvachavali/.local/lib/python3.11/site-packages (from torch>=2.0.0->accelerate) (12.6.77)\n",
      "Requirement already satisfied: nvidia-cuda-cupti-cu12==12.6.80 in /home/apoorvachavali/.local/lib/python3.11/site-packages (from torch>=2.0.0->accelerate) (12.6.80)\n",
      "Requirement already satisfied: nvidia-cudnn-cu12==9.5.1.17 in /home/apoorvachavali/.local/lib/python3.11/site-packages (from torch>=2.0.0->accelerate) (9.5.1.17)\n",
      "Requirement already satisfied: nvidia-cublas-cu12==12.6.4.1 in /home/apoorvachavali/.local/lib/python3.11/site-packages (from torch>=2.0.0->accelerate) (12.6.4.1)\n",
      "Requirement already satisfied: nvidia-cufft-cu12==11.3.0.4 in /home/apoorvachavali/.local/lib/python3.11/site-packages (from torch>=2.0.0->accelerate) (11.3.0.4)\n",
      "Requirement already satisfied: nvidia-curand-cu12==10.3.7.77 in /home/apoorvachavali/.local/lib/python3.11/site-packages (from torch>=2.0.0->accelerate) (10.3.7.77)\n",
      "Requirement already satisfied: nvidia-cusolver-cu12==11.7.1.2 in /home/apoorvachavali/.local/lib/python3.11/site-packages (from torch>=2.0.0->accelerate) (11.7.1.2)\n",
      "Requirement already satisfied: nvidia-cusparse-cu12==12.5.4.2 in /home/apoorvachavali/.local/lib/python3.11/site-packages (from torch>=2.0.0->accelerate) (12.5.4.2)\n",
      "Requirement already satisfied: nvidia-cusparselt-cu12==0.6.3 in /home/apoorvachavali/.local/lib/python3.11/site-packages (from torch>=2.0.0->accelerate) (0.6.3)\n",
      "Requirement already satisfied: nvidia-nccl-cu12==2.26.2 in /home/apoorvachavali/.local/lib/python3.11/site-packages (from torch>=2.0.0->accelerate) (2.26.2)\n",
      "Requirement already satisfied: nvidia-nvtx-cu12==12.6.77 in /home/apoorvachavali/.local/lib/python3.11/site-packages (from torch>=2.0.0->accelerate) (12.6.77)\n",
      "Requirement already satisfied: nvidia-nvjitlink-cu12==12.6.85 in /home/apoorvachavali/.local/lib/python3.11/site-packages (from torch>=2.0.0->accelerate) (12.6.85)\n",
      "Requirement already satisfied: nvidia-cufile-cu12==1.11.1.6 in /home/apoorvachavali/.local/lib/python3.11/site-packages (from torch>=2.0.0->accelerate) (1.11.1.6)\n",
      "Requirement already satisfied: triton==3.3.1 in /home/apoorvachavali/.local/lib/python3.11/site-packages (from torch>=2.0.0->accelerate) (3.3.1)\n",
      "Requirement already satisfied: setuptools>=40.8.0 in /apps/common/software/Miniforge3/24.11.3-0-jupyter-base/lib/python3.11/site-packages (from triton==3.3.1->torch>=2.0.0->accelerate) (80.8.0)\n",
      "Requirement already satisfied: mpmath<1.4,>=1.1.0 in /apps/common/software/Miniforge3/24.11.3-0-jupyter-base/lib/python3.11/site-packages (from sympy>=1.13.3->torch>=2.0.0->accelerate) (1.3.0)\n",
      "Requirement already satisfied: MarkupSafe>=2.0 in /apps/common/software/Miniforge3/24.11.3-0-jupyter-base/lib/python3.11/site-packages (from jinja2->torch>=2.0.0->accelerate) (3.0.2)\n",
      "Requirement already satisfied: charset_normalizer<4,>=2 in /apps/common/software/Miniforge3/24.11.3-0-jupyter-base/lib/python3.11/site-packages (from requests->transformers==4.54.0.dev0) (3.4.2)\n",
      "Requirement already satisfied: idna<4,>=2.5 in /apps/common/software/Miniforge3/24.11.3-0-jupyter-base/lib/python3.11/site-packages (from requests->transformers==4.54.0.dev0) (3.10)\n",
      "Requirement already satisfied: urllib3<3,>=1.21.1 in /apps/common/software/Miniforge3/24.11.3-0-jupyter-base/lib/python3.11/site-packages (from requests->transformers==4.54.0.dev0) (2.4.0)\n",
      "Requirement already satisfied: certifi>=2017.4.17 in /apps/common/software/Miniforge3/24.11.3-0-jupyter-base/lib/python3.11/site-packages (from requests->transformers==4.54.0.dev0) (2025.4.26)\n"
     ]
    },
    {
     "name": "stderr",
     "output_type": "stream",
     "text": [
      "huggingface/tokenizers: The current process just got forked, after parallelism has already been used. Disabling parallelism to avoid deadlocks...\n",
      "To disable this warning, you can either:\n",
      "\t- Avoid using `tokenizers` before the fork if possible\n",
      "\t- Explicitly set the environment variable TOKENIZERS_PARALLELISM=(true | false)\n"
     ]
    },
    {
     "name": "stdout",
     "output_type": "stream",
     "text": [
      "Defaulting to user installation because normal site-packages is not writeable\n",
      "Requirement already satisfied: torch in /home/apoorvachavali/.local/lib/python3.11/site-packages (2.7.1)\n",
      "Requirement already satisfied: filelock in /home/apoorvachavali/.local/lib/python3.11/site-packages (from torch) (3.18.0)\n",
      "Requirement already satisfied: typing-extensions>=4.10.0 in /apps/common/software/Miniforge3/24.11.3-0-jupyter-base/lib/python3.11/site-packages (from torch) (4.13.2)\n",
      "Requirement already satisfied: sympy>=1.13.3 in /apps/common/software/Miniforge3/24.11.3-0-jupyter-base/lib/python3.11/site-packages (from torch) (1.14.0)\n",
      "Requirement already satisfied: networkx in /home/apoorvachavali/.local/lib/python3.11/site-packages (from torch) (3.5)\n",
      "Requirement already satisfied: jinja2 in /apps/common/software/Miniforge3/24.11.3-0-jupyter-base/lib/python3.11/site-packages (from torch) (3.1.6)\n",
      "Requirement already satisfied: fsspec in /home/apoorvachavali/.local/lib/python3.11/site-packages (from torch) (2025.3.0)\n",
      "Requirement already satisfied: nvidia-cuda-nvrtc-cu12==12.6.77 in /home/apoorvachavali/.local/lib/python3.11/site-packages (from torch) (12.6.77)\n",
      "Requirement already satisfied: nvidia-cuda-runtime-cu12==12.6.77 in /home/apoorvachavali/.local/lib/python3.11/site-packages (from torch) (12.6.77)\n",
      "Requirement already satisfied: nvidia-cuda-cupti-cu12==12.6.80 in /home/apoorvachavali/.local/lib/python3.11/site-packages (from torch) (12.6.80)\n",
      "Requirement already satisfied: nvidia-cudnn-cu12==9.5.1.17 in /home/apoorvachavali/.local/lib/python3.11/site-packages (from torch) (9.5.1.17)\n",
      "Requirement already satisfied: nvidia-cublas-cu12==12.6.4.1 in /home/apoorvachavali/.local/lib/python3.11/site-packages (from torch) (12.6.4.1)\n",
      "Requirement already satisfied: nvidia-cufft-cu12==11.3.0.4 in /home/apoorvachavali/.local/lib/python3.11/site-packages (from torch) (11.3.0.4)\n",
      "Requirement already satisfied: nvidia-curand-cu12==10.3.7.77 in /home/apoorvachavali/.local/lib/python3.11/site-packages (from torch) (10.3.7.77)\n",
      "Requirement already satisfied: nvidia-cusolver-cu12==11.7.1.2 in /home/apoorvachavali/.local/lib/python3.11/site-packages (from torch) (11.7.1.2)\n",
      "Requirement already satisfied: nvidia-cusparse-cu12==12.5.4.2 in /home/apoorvachavali/.local/lib/python3.11/site-packages (from torch) (12.5.4.2)\n",
      "Requirement already satisfied: nvidia-cusparselt-cu12==0.6.3 in /home/apoorvachavali/.local/lib/python3.11/site-packages (from torch) (0.6.3)\n",
      "Requirement already satisfied: nvidia-nccl-cu12==2.26.2 in /home/apoorvachavali/.local/lib/python3.11/site-packages (from torch) (2.26.2)\n",
      "Requirement already satisfied: nvidia-nvtx-cu12==12.6.77 in /home/apoorvachavali/.local/lib/python3.11/site-packages (from torch) (12.6.77)\n",
      "Requirement already satisfied: nvidia-nvjitlink-cu12==12.6.85 in /home/apoorvachavali/.local/lib/python3.11/site-packages (from torch) (12.6.85)\n",
      "Requirement already satisfied: nvidia-cufile-cu12==1.11.1.6 in /home/apoorvachavali/.local/lib/python3.11/site-packages (from torch) (1.11.1.6)\n",
      "Requirement already satisfied: triton==3.3.1 in /home/apoorvachavali/.local/lib/python3.11/site-packages (from torch) (3.3.1)\n",
      "Requirement already satisfied: setuptools>=40.8.0 in /apps/common/software/Miniforge3/24.11.3-0-jupyter-base/lib/python3.11/site-packages (from triton==3.3.1->torch) (80.8.0)\n",
      "Requirement already satisfied: mpmath<1.4,>=1.1.0 in /apps/common/software/Miniforge3/24.11.3-0-jupyter-base/lib/python3.11/site-packages (from sympy>=1.13.3->torch) (1.3.0)\n",
      "Requirement already satisfied: MarkupSafe>=2.0 in /apps/common/software/Miniforge3/24.11.3-0-jupyter-base/lib/python3.11/site-packages (from jinja2->torch) (3.0.2)\n"
     ]
    },
    {
     "name": "stderr",
     "output_type": "stream",
     "text": [
      "huggingface/tokenizers: The current process just got forked, after parallelism has already been used. Disabling parallelism to avoid deadlocks...\n",
      "To disable this warning, you can either:\n",
      "\t- Avoid using `tokenizers` before the fork if possible\n",
      "\t- Explicitly set the environment variable TOKENIZERS_PARALLELISM=(true | false)\n"
     ]
    },
    {
     "name": "stdout",
     "output_type": "stream",
     "text": [
      "Defaulting to user installation because normal site-packages is not writeable\n",
      "Requirement already satisfied: qwen_vl_utils in /home/apoorvachavali/.local/lib/python3.11/site-packages (0.0.11)\n",
      "Requirement already satisfied: av in /home/apoorvachavali/.local/lib/python3.11/site-packages (from qwen_vl_utils) (14.4.0)\n",
      "Requirement already satisfied: packaging in /apps/common/software/Miniforge3/24.11.3-0-jupyter-base/lib/python3.11/site-packages (from qwen_vl_utils) (25.0)\n",
      "Requirement already satisfied: pillow in /apps/common/software/Miniforge3/24.11.3-0-jupyter-base/lib/python3.11/site-packages (from qwen_vl_utils) (11.2.1)\n",
      "Requirement already satisfied: requests in /apps/common/software/Miniforge3/24.11.3-0-jupyter-base/lib/python3.11/site-packages (from qwen_vl_utils) (2.32.3)\n",
      "Requirement already satisfied: charset_normalizer<4,>=2 in /apps/common/software/Miniforge3/24.11.3-0-jupyter-base/lib/python3.11/site-packages (from requests->qwen_vl_utils) (3.4.2)\n",
      "Requirement already satisfied: idna<4,>=2.5 in /apps/common/software/Miniforge3/24.11.3-0-jupyter-base/lib/python3.11/site-packages (from requests->qwen_vl_utils) (3.10)\n",
      "Requirement already satisfied: urllib3<3,>=1.21.1 in /apps/common/software/Miniforge3/24.11.3-0-jupyter-base/lib/python3.11/site-packages (from requests->qwen_vl_utils) (2.4.0)\n",
      "Requirement already satisfied: certifi>=2017.4.17 in /apps/common/software/Miniforge3/24.11.3-0-jupyter-base/lib/python3.11/site-packages (from requests->qwen_vl_utils) (2025.4.26)\n"
     ]
    },
    {
     "name": "stderr",
     "output_type": "stream",
     "text": [
      "huggingface/tokenizers: The current process just got forked, after parallelism has already been used. Disabling parallelism to avoid deadlocks...\n",
      "To disable this warning, you can either:\n",
      "\t- Avoid using `tokenizers` before the fork if possible\n",
      "\t- Explicitly set the environment variable TOKENIZERS_PARALLELISM=(true | false)\n"
     ]
    },
    {
     "name": "stdout",
     "output_type": "stream",
     "text": [
      "Defaulting to user installation because normal site-packages is not writeable\n",
      "Requirement already satisfied: torchvision in /home/apoorvachavali/.local/lib/python3.11/site-packages (0.22.1)\n",
      "Requirement already satisfied: numpy in /home/apoorvachavali/.local/lib/python3.11/site-packages (from torchvision) (2.1.3)\n",
      "Requirement already satisfied: torch==2.7.1 in /home/apoorvachavali/.local/lib/python3.11/site-packages (from torchvision) (2.7.1)\n",
      "Requirement already satisfied: pillow!=8.3.*,>=5.3.0 in /apps/common/software/Miniforge3/24.11.3-0-jupyter-base/lib/python3.11/site-packages (from torchvision) (11.2.1)\n",
      "Requirement already satisfied: filelock in /home/apoorvachavali/.local/lib/python3.11/site-packages (from torch==2.7.1->torchvision) (3.18.0)\n",
      "Requirement already satisfied: typing-extensions>=4.10.0 in /apps/common/software/Miniforge3/24.11.3-0-jupyter-base/lib/python3.11/site-packages (from torch==2.7.1->torchvision) (4.13.2)\n",
      "Requirement already satisfied: sympy>=1.13.3 in /apps/common/software/Miniforge3/24.11.3-0-jupyter-base/lib/python3.11/site-packages (from torch==2.7.1->torchvision) (1.14.0)\n",
      "Requirement already satisfied: networkx in /home/apoorvachavali/.local/lib/python3.11/site-packages (from torch==2.7.1->torchvision) (3.5)\n",
      "Requirement already satisfied: jinja2 in /apps/common/software/Miniforge3/24.11.3-0-jupyter-base/lib/python3.11/site-packages (from torch==2.7.1->torchvision) (3.1.6)\n",
      "Requirement already satisfied: fsspec in /home/apoorvachavali/.local/lib/python3.11/site-packages (from torch==2.7.1->torchvision) (2025.3.0)\n",
      "Requirement already satisfied: nvidia-cuda-nvrtc-cu12==12.6.77 in /home/apoorvachavali/.local/lib/python3.11/site-packages (from torch==2.7.1->torchvision) (12.6.77)\n",
      "Requirement already satisfied: nvidia-cuda-runtime-cu12==12.6.77 in /home/apoorvachavali/.local/lib/python3.11/site-packages (from torch==2.7.1->torchvision) (12.6.77)\n",
      "Requirement already satisfied: nvidia-cuda-cupti-cu12==12.6.80 in /home/apoorvachavali/.local/lib/python3.11/site-packages (from torch==2.7.1->torchvision) (12.6.80)\n",
      "Requirement already satisfied: nvidia-cudnn-cu12==9.5.1.17 in /home/apoorvachavali/.local/lib/python3.11/site-packages (from torch==2.7.1->torchvision) (9.5.1.17)\n",
      "Requirement already satisfied: nvidia-cublas-cu12==12.6.4.1 in /home/apoorvachavali/.local/lib/python3.11/site-packages (from torch==2.7.1->torchvision) (12.6.4.1)\n",
      "Requirement already satisfied: nvidia-cufft-cu12==11.3.0.4 in /home/apoorvachavali/.local/lib/python3.11/site-packages (from torch==2.7.1->torchvision) (11.3.0.4)\n",
      "Requirement already satisfied: nvidia-curand-cu12==10.3.7.77 in /home/apoorvachavali/.local/lib/python3.11/site-packages (from torch==2.7.1->torchvision) (10.3.7.77)\n",
      "Requirement already satisfied: nvidia-cusolver-cu12==11.7.1.2 in /home/apoorvachavali/.local/lib/python3.11/site-packages (from torch==2.7.1->torchvision) (11.7.1.2)\n",
      "Requirement already satisfied: nvidia-cusparse-cu12==12.5.4.2 in /home/apoorvachavali/.local/lib/python3.11/site-packages (from torch==2.7.1->torchvision) (12.5.4.2)\n",
      "Requirement already satisfied: nvidia-cusparselt-cu12==0.6.3 in /home/apoorvachavali/.local/lib/python3.11/site-packages (from torch==2.7.1->torchvision) (0.6.3)\n",
      "Requirement already satisfied: nvidia-nccl-cu12==2.26.2 in /home/apoorvachavali/.local/lib/python3.11/site-packages (from torch==2.7.1->torchvision) (2.26.2)\n",
      "Requirement already satisfied: nvidia-nvtx-cu12==12.6.77 in /home/apoorvachavali/.local/lib/python3.11/site-packages (from torch==2.7.1->torchvision) (12.6.77)\n",
      "Requirement already satisfied: nvidia-nvjitlink-cu12==12.6.85 in /home/apoorvachavali/.local/lib/python3.11/site-packages (from torch==2.7.1->torchvision) (12.6.85)\n",
      "Requirement already satisfied: nvidia-cufile-cu12==1.11.1.6 in /home/apoorvachavali/.local/lib/python3.11/site-packages (from torch==2.7.1->torchvision) (1.11.1.6)\n",
      "Requirement already satisfied: triton==3.3.1 in /home/apoorvachavali/.local/lib/python3.11/site-packages (from torch==2.7.1->torchvision) (3.3.1)\n",
      "Requirement already satisfied: setuptools>=40.8.0 in /apps/common/software/Miniforge3/24.11.3-0-jupyter-base/lib/python3.11/site-packages (from triton==3.3.1->torch==2.7.1->torchvision) (80.8.0)\n",
      "Requirement already satisfied: mpmath<1.4,>=1.1.0 in /apps/common/software/Miniforge3/24.11.3-0-jupyter-base/lib/python3.11/site-packages (from sympy>=1.13.3->torch==2.7.1->torchvision) (1.3.0)\n",
      "Requirement already satisfied: MarkupSafe>=2.0 in /apps/common/software/Miniforge3/24.11.3-0-jupyter-base/lib/python3.11/site-packages (from jinja2->torch==2.7.1->torchvision) (3.0.2)\n"
     ]
    },
    {
     "name": "stderr",
     "output_type": "stream",
     "text": [
      "huggingface/tokenizers: The current process just got forked, after parallelism has already been used. Disabling parallelism to avoid deadlocks...\n",
      "To disable this warning, you can either:\n",
      "\t- Avoid using `tokenizers` before the fork if possible\n",
      "\t- Explicitly set the environment variable TOKENIZERS_PARALLELISM=(true | false)\n"
     ]
    },
    {
     "name": "stdout",
     "output_type": "stream",
     "text": [
      "Defaulting to user installation because normal site-packages is not writeable\n",
      "Requirement already satisfied: datasets in /home/apoorvachavali/.local/lib/python3.11/site-packages (3.6.0)\n",
      "Requirement already satisfied: filelock in /home/apoorvachavali/.local/lib/python3.11/site-packages (from datasets) (3.18.0)\n",
      "Requirement already satisfied: numpy>=1.17 in /home/apoorvachavali/.local/lib/python3.11/site-packages (from datasets) (2.1.3)\n",
      "Requirement already satisfied: pyarrow>=15.0.0 in /home/apoorvachavali/.local/lib/python3.11/site-packages (from datasets) (20.0.0)\n",
      "Requirement already satisfied: dill<0.3.9,>=0.3.0 in /home/apoorvachavali/.local/lib/python3.11/site-packages (from datasets) (0.3.8)\n",
      "Requirement already satisfied: pandas in /apps/common/software/Miniforge3/24.11.3-0-jupyter-base/lib/python3.11/site-packages (from datasets) (2.2.3)\n",
      "Requirement already satisfied: requests>=2.32.2 in /apps/common/software/Miniforge3/24.11.3-0-jupyter-base/lib/python3.11/site-packages (from datasets) (2.32.3)\n",
      "Requirement already satisfied: tqdm>=4.66.3 in /apps/common/software/Miniforge3/24.11.3-0-jupyter-base/lib/python3.11/site-packages (from datasets) (4.67.1)\n",
      "Requirement already satisfied: xxhash in /home/apoorvachavali/.local/lib/python3.11/site-packages (from datasets) (3.5.0)\n",
      "Requirement already satisfied: multiprocess<0.70.17 in /home/apoorvachavali/.local/lib/python3.11/site-packages (from datasets) (0.70.16)\n",
      "Requirement already satisfied: fsspec<=2025.3.0,>=2023.1.0 in /home/apoorvachavali/.local/lib/python3.11/site-packages (from fsspec[http]<=2025.3.0,>=2023.1.0->datasets) (2025.3.0)\n",
      "Requirement already satisfied: huggingface-hub>=0.24.0 in /home/apoorvachavali/.local/lib/python3.11/site-packages (from datasets) (0.33.1)\n",
      "Requirement already satisfied: packaging in /apps/common/software/Miniforge3/24.11.3-0-jupyter-base/lib/python3.11/site-packages (from datasets) (25.0)\n",
      "Requirement already satisfied: pyyaml>=5.1 in /apps/common/software/Miniforge3/24.11.3-0-jupyter-base/lib/python3.11/site-packages (from datasets) (6.0.2)\n",
      "Requirement already satisfied: aiohttp!=4.0.0a0,!=4.0.0a1 in /home/apoorvachavali/.local/lib/python3.11/site-packages (from fsspec[http]<=2025.3.0,>=2023.1.0->datasets) (3.12.13)\n",
      "Requirement already satisfied: aiohappyeyeballs>=2.5.0 in /home/apoorvachavali/.local/lib/python3.11/site-packages (from aiohttp!=4.0.0a0,!=4.0.0a1->fsspec[http]<=2025.3.0,>=2023.1.0->datasets) (2.6.1)\n",
      "Requirement already satisfied: aiosignal>=1.1.2 in /home/apoorvachavali/.local/lib/python3.11/site-packages (from aiohttp!=4.0.0a0,!=4.0.0a1->fsspec[http]<=2025.3.0,>=2023.1.0->datasets) (1.3.2)\n",
      "Requirement already satisfied: attrs>=17.3.0 in /apps/common/software/Miniforge3/24.11.3-0-jupyter-base/lib/python3.11/site-packages (from aiohttp!=4.0.0a0,!=4.0.0a1->fsspec[http]<=2025.3.0,>=2023.1.0->datasets) (25.3.0)\n",
      "Requirement already satisfied: frozenlist>=1.1.1 in /home/apoorvachavali/.local/lib/python3.11/site-packages (from aiohttp!=4.0.0a0,!=4.0.0a1->fsspec[http]<=2025.3.0,>=2023.1.0->datasets) (1.7.0)\n",
      "Requirement already satisfied: multidict<7.0,>=4.5 in /home/apoorvachavali/.local/lib/python3.11/site-packages (from aiohttp!=4.0.0a0,!=4.0.0a1->fsspec[http]<=2025.3.0,>=2023.1.0->datasets) (6.6.2)\n",
      "Requirement already satisfied: propcache>=0.2.0 in /home/apoorvachavali/.local/lib/python3.11/site-packages (from aiohttp!=4.0.0a0,!=4.0.0a1->fsspec[http]<=2025.3.0,>=2023.1.0->datasets) (0.3.2)\n",
      "Requirement already satisfied: yarl<2.0,>=1.17.0 in /home/apoorvachavali/.local/lib/python3.11/site-packages (from aiohttp!=4.0.0a0,!=4.0.0a1->fsspec[http]<=2025.3.0,>=2023.1.0->datasets) (1.20.1)\n",
      "Requirement already satisfied: idna>=2.0 in /apps/common/software/Miniforge3/24.11.3-0-jupyter-base/lib/python3.11/site-packages (from yarl<2.0,>=1.17.0->aiohttp!=4.0.0a0,!=4.0.0a1->fsspec[http]<=2025.3.0,>=2023.1.0->datasets) (3.10)\n",
      "Requirement already satisfied: typing-extensions>=3.7.4.3 in /apps/common/software/Miniforge3/24.11.3-0-jupyter-base/lib/python3.11/site-packages (from huggingface-hub>=0.24.0->datasets) (4.13.2)\n",
      "Requirement already satisfied: hf-xet<2.0.0,>=1.1.2 in /home/apoorvachavali/.local/lib/python3.11/site-packages (from huggingface-hub>=0.24.0->datasets) (1.1.5)\n",
      "Requirement already satisfied: charset_normalizer<4,>=2 in /apps/common/software/Miniforge3/24.11.3-0-jupyter-base/lib/python3.11/site-packages (from requests>=2.32.2->datasets) (3.4.2)\n",
      "Requirement already satisfied: urllib3<3,>=1.21.1 in /apps/common/software/Miniforge3/24.11.3-0-jupyter-base/lib/python3.11/site-packages (from requests>=2.32.2->datasets) (2.4.0)\n",
      "Requirement already satisfied: certifi>=2017.4.17 in /apps/common/software/Miniforge3/24.11.3-0-jupyter-base/lib/python3.11/site-packages (from requests>=2.32.2->datasets) (2025.4.26)\n",
      "Requirement already satisfied: python-dateutil>=2.8.2 in /apps/common/software/Miniforge3/24.11.3-0-jupyter-base/lib/python3.11/site-packages (from pandas->datasets) (2.9.0.post0)\n",
      "Requirement already satisfied: pytz>=2020.1 in /apps/common/software/Miniforge3/24.11.3-0-jupyter-base/lib/python3.11/site-packages (from pandas->datasets) (2025.2)\n",
      "Requirement already satisfied: tzdata>=2022.7 in /apps/common/software/Miniforge3/24.11.3-0-jupyter-base/lib/python3.11/site-packages (from pandas->datasets) (2025.2)\n",
      "Requirement already satisfied: six>=1.5 in /apps/common/software/Miniforge3/24.11.3-0-jupyter-base/lib/python3.11/site-packages (from python-dateutil>=2.8.2->pandas->datasets) (1.17.0)\n"
     ]
    }
   ],
   "source": [
    "!pip install git+https://github.com/huggingface/transformers accelerate\n",
    "!pip install torch\n",
    "!pip install qwen_vl_utils\n",
    "!pip install torchvision\n",
    "!pip install datasets"
   ]
  },
  {
   "cell_type": "code",
   "execution_count": 103,
   "id": "6be296cd-4394-4ed6-bc9c-27502106bdbd",
   "metadata": {},
   "outputs": [],
   "source": [
    "import torch\n",
    "from transformers import (\n",
    "    Qwen2_5_VLForConditionalGeneration, AutoProcessor as QwenProcessor\n",
    ")\n",
    "from qwen_vl_utils import process_vision_info\n",
    "from datasets import load_dataset\n",
    "from PIL import Image"
   ]
  },
  {
   "cell_type": "code",
   "execution_count": 104,
   "id": "6cb3aedd-97db-4e36-896e-10742aef6ab1",
   "metadata": {},
   "outputs": [
    {
     "data": {
      "application/vnd.jupyter.widget-view+json": {
       "model_id": "8930a4bcf1394bdd9eaf43dd2c173884",
       "version_major": 2,
       "version_minor": 0
      },
      "text/plain": [
       "Loading checkpoint shards:   0%|          | 0/5 [00:00<?, ?it/s]"
      ]
     },
     "metadata": {},
     "output_type": "display_data"
    },
    {
     "name": "stdout",
     "output_type": "stream",
     "text": [
      "Using 2 GPUs for Qwen\n"
     ]
    },
    {
     "data": {
      "text/plain": [
       "DataParallel(\n",
       "  (module): Qwen2_5_VLForConditionalGeneration(\n",
       "    (model): Qwen2_5_VLModel(\n",
       "      (visual): Qwen2_5_VisionTransformerPretrainedModel(\n",
       "        (patch_embed): Qwen2_5_VisionPatchEmbed(\n",
       "          (proj): Conv3d(3, 1280, kernel_size=(2, 14, 14), stride=(2, 14, 14), bias=False)\n",
       "        )\n",
       "        (rotary_pos_emb): Qwen2_5_VisionRotaryEmbedding()\n",
       "        (blocks): ModuleList(\n",
       "          (0-31): 32 x Qwen2_5_VLVisionBlock(\n",
       "            (norm1): Qwen2RMSNorm((1280,), eps=1e-06)\n",
       "            (norm2): Qwen2RMSNorm((1280,), eps=1e-06)\n",
       "            (attn): Qwen2_5_VLVisionAttention(\n",
       "              (qkv): Linear(in_features=1280, out_features=3840, bias=True)\n",
       "              (proj): Linear(in_features=1280, out_features=1280, bias=True)\n",
       "            )\n",
       "            (mlp): Qwen2_5_VLMLP(\n",
       "              (gate_proj): Linear(in_features=1280, out_features=3420, bias=True)\n",
       "              (up_proj): Linear(in_features=1280, out_features=3420, bias=True)\n",
       "              (down_proj): Linear(in_features=3420, out_features=1280, bias=True)\n",
       "              (act_fn): SiLU()\n",
       "            )\n",
       "          )\n",
       "        )\n",
       "        (merger): Qwen2_5_VLPatchMerger(\n",
       "          (ln_q): Qwen2RMSNorm((1280,), eps=1e-06)\n",
       "          (mlp): Sequential(\n",
       "            (0): Linear(in_features=5120, out_features=5120, bias=True)\n",
       "            (1): GELU(approximate='none')\n",
       "            (2): Linear(in_features=5120, out_features=3584, bias=True)\n",
       "          )\n",
       "        )\n",
       "      )\n",
       "      (language_model): Qwen2_5_VLTextModel(\n",
       "        (embed_tokens): Embedding(152064, 3584)\n",
       "        (layers): ModuleList(\n",
       "          (0-27): 28 x Qwen2_5_VLDecoderLayer(\n",
       "            (self_attn): Qwen2_5_VLAttention(\n",
       "              (q_proj): Linear(in_features=3584, out_features=3584, bias=True)\n",
       "              (k_proj): Linear(in_features=3584, out_features=512, bias=True)\n",
       "              (v_proj): Linear(in_features=3584, out_features=512, bias=True)\n",
       "              (o_proj): Linear(in_features=3584, out_features=3584, bias=False)\n",
       "              (rotary_emb): Qwen2_5_VLRotaryEmbedding()\n",
       "            )\n",
       "            (mlp): Qwen2MLP(\n",
       "              (gate_proj): Linear(in_features=3584, out_features=18944, bias=False)\n",
       "              (up_proj): Linear(in_features=3584, out_features=18944, bias=False)\n",
       "              (down_proj): Linear(in_features=18944, out_features=3584, bias=False)\n",
       "              (act_fn): SiLU()\n",
       "            )\n",
       "            (input_layernorm): Qwen2RMSNorm((3584,), eps=1e-06)\n",
       "            (post_attention_layernorm): Qwen2RMSNorm((3584,), eps=1e-06)\n",
       "          )\n",
       "        )\n",
       "        (norm): Qwen2RMSNorm((3584,), eps=1e-06)\n",
       "        (rotary_emb): Qwen2_5_VLRotaryEmbedding()\n",
       "      )\n",
       "    )\n",
       "    (lm_head): Linear(in_features=3584, out_features=152064, bias=False)\n",
       "  )\n",
       ")"
      ]
     },
     "execution_count": 104,
     "metadata": {},
     "output_type": "execute_result"
    }
   ],
   "source": [
    "# Load Qwen 7B model\n",
    "qwen_model = Qwen2_5_VLForConditionalGeneration.from_pretrained(\n",
    "    \"Qwen/Qwen2.5-VL-7B-Instruct\", torch_dtype=\"auto\"\n",
    ")\n",
    "if torch.cuda.device_count() > 1:\n",
    "    print(\"Using\", torch.cuda.device_count(), \"GPUs for Qwen\")\n",
    "    qwen_model = torch.nn.DataParallel(qwen_model)\n",
    "qwen_model.to(\"cuda\")"
   ]
  },
  {
   "cell_type": "code",
   "execution_count": 105,
   "id": "4544b1db-1540-47e0-ada7-6c071c52bcf7",
   "metadata": {},
   "outputs": [],
   "source": [
    "qwen_processor = QwenProcessor.from_pretrained(\"Qwen/Qwen2.5-VL-7B-Instruct\")"
   ]
  },
  {
   "cell_type": "code",
   "execution_count": 150,
   "id": "677cc140-1c15-4d98-a56f-44954d177289",
   "metadata": {},
   "outputs": [
    {
     "name": "stderr",
     "output_type": "stream",
     "text": [
      "Repo card metadata block was not found. Setting CardData to empty.\n"
     ]
    }
   ],
   "source": [
    "# Load VQAv2 data\n",
    "data_vqa = load_dataset(\"HuggingFaceM4/VQAv2\", split=\"validation[:1000]\")\n",
    "\n",
    "device = torch.device(\"cuda\" if torch.cuda.is_available() else \"cpu\")"
   ]
  },
  {
   "cell_type": "code",
   "execution_count": 151,
   "id": "1e1e284a-03d7-40ee-81de-f43c5f4901cd",
   "metadata": {},
   "outputs": [],
   "source": [
    "def chat_with_qwen_vqav2_temp_03(data_point, agent_id=\"Qwen-0.3\", round_num=1, own_previous=None, peer_solutions=None):\n",
    "    image = data_point['image']\n",
    "    if image is None:\n",
    "        return \"No image provided.\"\n",
    "\n",
    "    question = data_point['question']\n",
    "\n",
    "    own_previous_text = f\"\\nYour previous answer was: {own_previous}\" if own_previous else \"\"\n",
    "\n",
    "    context = \"\"\n",
    "    if peer_solutions:\n",
    "        for i, peer in enumerate(peer_solutions, 1):\n",
    "            context += f\"\\nAgent {i} said: {peer.strip()}\"\n",
    "\n",
    "    prompt = f\"\"\"You are Agent {agent_id} in a multi-agent debate to solve the following commonsense reasoning problem:\n",
    "Problem: {question}\n",
    "{own_previous_text}\n",
    "Here are the solutions from other agents:{context}\n",
    "This is debate round {round_num}. Please carefully analyze all solutions—including your own—identify any flawed assumptions or logical inconsistencies, and provide your revised solution.\n",
    "• If you believe your previous answer is correct, explain the logical reasoning and real-world knowledge supporting it.\n",
    "• If you believe you made an error, explain the flawed assumption or inconsistency and provide a corrected solution.\n",
    "• If you believe another agent’s answer is correct, explain why their reasoning aligns with commonsense knowledge.\n",
    "You must respond in this exact format and include only ONE final answer:\n",
    "\n",
    "Reason: [Your reasoning in 2–4 sentences.]\n",
    "\n",
    "Answer: {{your final one-word answer here, in lowercase, inside double curly braces. For example: {{down}}}}\n",
    "\n",
    "Do not include multiple answers or repeat the Reason/Answer sections. Only one Reason and one Answer should be in your response.\n",
    "\n",
    "\"\"\"\n",
    "\n",
    "    messages = [\n",
    "        {\n",
    "            \"role\": \"user\",\n",
    "            \"content\": [\n",
    "                {\"type\": \"image\", \"image\": image},\n",
    "                {\"type\": \"text\", \"text\": prompt}\n",
    "            ],\n",
    "        }\n",
    "    ]\n",
    "\n",
    "    text = qwen_processor.apply_chat_template(messages, tokenize=False, add_generation_prompt=True)\n",
    "    image_inputs, video_inputs = process_vision_info(messages)\n",
    "    inputs = qwen_processor(\n",
    "        text=[text],\n",
    "        images=image_inputs,\n",
    "        videos=video_inputs,\n",
    "        padding=True,\n",
    "        return_tensors=\"pt\",\n",
    "    )\n",
    "    inputs = {k: v.to(device) if isinstance(v, torch.Tensor) else v for k, v in inputs.items()}\n",
    "\n",
    "    generated_ids = qwen_model.module.generate(**inputs, max_new_tokens=4096, temperature=0.3)\n",
    "    trimmed = [out[len(inp):] for inp, out in zip(inputs[\"input_ids\"], generated_ids)]\n",
    "    output_text = qwen_processor.batch_decode(trimmed, skip_special_tokens=True, clean_up_tokenization_spaces=True)[0]\n",
    "    \n",
    "    return output_text.strip()\n"
   ]
  },
  {
   "cell_type": "code",
   "execution_count": 152,
   "id": "e2d7a384-1136-4c65-9a2a-f47a3db5a461",
   "metadata": {},
   "outputs": [],
   "source": [
    "def chat_with_qwen_vqav2_temp_07(data_point, agent_id=\"Qwen-0.7\", round_num=1, own_previous=None, peer_solutions=None):\n",
    "    image = data_point['image']\n",
    "    if image is None:\n",
    "        return \"No image provided.\"\n",
    "\n",
    "    question = data_point['question']\n",
    "\n",
    "    own_previous_text = f\"\\nYour previous answer was: {own_previous}\" if own_previous else \"\"\n",
    "\n",
    "    context = \"\"\n",
    "    if peer_solutions:\n",
    "        for i, peer in enumerate(peer_solutions, 1):\n",
    "            context += f\"\\nAgent {i} said: {peer.strip()}\"\n",
    "\n",
    "    prompt = f\"\"\"You are Agent {agent_id} in a multi-agent debate to solve the following commonsense reasoning problem:\n",
    "Problem: {question}\n",
    "{own_previous_text}\n",
    "Here are the solutions from other agents:{context}\n",
    "This is debate round {round_num}. Please carefully analyze all solutions—including your own—identify any flawed assumptions or logical inconsistencies, and provide your revised solution.\n",
    "• If you believe your previous answer is correct, explain the logical reasoning and real-world knowledge supporting it.\n",
    "• If you believe you made an error, explain the flawed assumption or inconsistency and provide a corrected solution.\n",
    "• If you believe another agent’s answer is correct, explain why their reasoning aligns with commonsense knowledge.\n",
    "You must respond in this exact format and include only ONE final answer:\n",
    "\n",
    "Reason: [Your reasoning in 2–4 sentences.]\n",
    "\n",
    "Answer: {{your final one-word answer here, in lowercase, inside double curly braces. For example: {{down}}}}\n",
    "\n",
    "Do not include multiple answers or repeat the Reason/Answer sections. Only one Reason and one Answer should be in your response.\n",
    "\n",
    "\"\"\"\n",
    "\n",
    "    messages = [\n",
    "        {\n",
    "            \"role\": \"user\",\n",
    "            \"content\": [\n",
    "                {\"type\": \"image\", \"image\": image},\n",
    "                {\"type\": \"text\", \"text\": prompt}\n",
    "            ],\n",
    "        }\n",
    "    ]\n",
    "\n",
    "    text = qwen_processor.apply_chat_template(messages, tokenize=False, add_generation_prompt=True)\n",
    "    image_inputs, video_inputs = process_vision_info(messages)\n",
    "    inputs = qwen_processor(\n",
    "        text=[text],\n",
    "        images=image_inputs,\n",
    "        videos=video_inputs,\n",
    "        padding=True,\n",
    "        return_tensors=\"pt\",\n",
    "    )\n",
    "    inputs = {k: v.to(device) if isinstance(v, torch.Tensor) else v for k, v in inputs.items()}\n",
    "\n",
    "    generated_ids = qwen_model.module.generate(**inputs, max_new_tokens=4096, temperature=0.7)\n",
    "    trimmed = [out[len(inp):] for inp, out in zip(inputs[\"input_ids\"], generated_ids)]\n",
    "    output_text = qwen_processor.batch_decode(trimmed, skip_special_tokens=True, clean_up_tokenization_spaces=True)[0]\n",
    "    \n",
    "    return output_text.strip()\n"
   ]
  },
  {
   "cell_type": "code",
   "execution_count": 153,
   "id": "c26ed3b5-2031-4df1-8d08-8b8ad649228c",
   "metadata": {},
   "outputs": [],
   "source": [
    "a1 = chat_with_qwen_vqav2_temp_07(data_vqa[0])"
   ]
  },
  {
   "cell_type": "code",
   "execution_count": 154,
   "id": "7c5fcf4c-9be2-47be-8c5c-d399e8f32ea2",
   "metadata": {},
   "outputs": [],
   "source": [
    "a2 = chat_with_qwen_vqav2_temp_03(data_vqa[0])"
   ]
  },
  {
   "cell_type": "code",
   "execution_count": 155,
   "id": "ac0c149c-153f-4b53-8474-aa5fbd289e27",
   "metadata": {},
   "outputs": [
    {
     "name": "stdout",
     "output_type": "stream",
     "text": [
      "Reason: The person appears to be focused on the skateboard trick, looking down at the board to maintain balance and control during the jump.常识中，当一个人执行动作尤其是滑板技巧时，注意力通常集中在他们自己的动作上。\n",
      "\n",
      "Answer: {down} Reason: The skateboarder appears to be looking down at his skateboard as he performs the trick. This is consistent with common skateboarding behavior where riders focus on their board during maneuvers to maintain control and balance.\n",
      "\n",
      "Answer: {down}\n"
     ]
    }
   ],
   "source": [
    "print(a1,a2)"
   ]
  },
  {
   "cell_type": "code",
   "execution_count": 156,
   "id": "232053bf-a782-4296-85e3-4ef387be80c4",
   "metadata": {},
   "outputs": [],
   "source": [
    "#Extracting answer from boxed format\n",
    "import re\n",
    "answer1 = re.findall(r'\\{(.*?)\\}', a1)\n",
    "answer2 = re.findall(r'\\{(.*?)\\}', a2)"
   ]
  },
  {
   "cell_type": "code",
   "execution_count": 157,
   "id": "a965c29f-029a-43fb-ac7c-03b324cdd491",
   "metadata": {},
   "outputs": [
    {
     "name": "stdout",
     "output_type": "stream",
     "text": [
      "['down'] ['down']\n",
      "down down\n"
     ]
    }
   ],
   "source": [
    "print(answer1, answer2)\n",
    "print(answer1[0], answer2[0])"
   ]
  },
  {
   "cell_type": "raw",
   "id": "b7081e74-a186-4743-9dc2-cd5c90239741",
   "metadata": {},
   "source": [
    "INIDVIDUAL SCORES"
   ]
  },
  {
   "cell_type": "code",
   "execution_count": 128,
   "id": "db6ba6dc-4119-47fe-993a-fcd0157dcd4a",
   "metadata": {},
   "outputs": [],
   "source": [
    "qwen_03_correct = 0\n",
    "qwen_07_correct = 0"
   ]
  },
  {
   "cell_type": "code",
   "execution_count": 129,
   "id": "168c4714-7a8e-469c-958f-878fc9ae139f",
   "metadata": {},
   "outputs": [],
   "source": [
    "for i in data_vqa:\n",
    "    a1 = chat_with_qwen_vqav2_temp_03(i)\n",
    "    a2 = chat_with_qwen_vqav2_temp_07(i)\n",
    "    if re.findall(r'\\{(.*?)\\}', a1)[0] == i['multiple_choice_answer']:\n",
    "        qwen_03_correct+=1\n",
    "    if re.findall(r'\\{(.*?)\\}', a2)[0] == i['multiple_choice_answer']:\n",
    "        qwen_07_correct+=1"
   ]
  },
  {
   "cell_type": "code",
   "execution_count": 130,
   "id": "388d23c7-5264-4486-9851-3fd0787a0aa4",
   "metadata": {},
   "outputs": [
    {
     "name": "stdout",
     "output_type": "stream",
     "text": [
      "563 532\n"
     ]
    }
   ],
   "source": [
    "print(qwen_03_correct, qwen_07_correct)"
   ]
  },
  {
   "cell_type": "code",
   "execution_count": 131,
   "id": "599660bf-7aa2-4dcc-acd7-4c915cc402b2",
   "metadata": {},
   "outputs": [],
   "source": [
    "qwen_03_correct = 0\n",
    "qwen_07_correct = 0"
   ]
  },
  {
   "cell_type": "code",
   "execution_count": 132,
   "id": "a4e865d5-77c8-442f-b4c1-6fc4a3d94a1b",
   "metadata": {},
   "outputs": [],
   "source": [
    "for i in data_vqa:\n",
    "    a1 = chat_with_qwen_vqav2_temp_03(i)\n",
    "    a2 = chat_with_qwen_vqav2_temp_07(i)\n",
    "    if re.findall(r'\\{(.*?)\\}', a1)[0] == i['multiple_choice_answer']:\n",
    "        qwen_03_correct+=1\n",
    "    if re.findall(r'\\{(.*?)\\}', a2)[0] == i['multiple_choice_answer']:\n",
    "        qwen_07_correct+=1"
   ]
  },
  {
   "cell_type": "code",
   "execution_count": 133,
   "id": "0992861f-ebea-4c23-9092-37c24d7d83b1",
   "metadata": {},
   "outputs": [
    {
     "name": "stdout",
     "output_type": "stream",
     "text": [
      "559 532\n"
     ]
    }
   ],
   "source": [
    "print(qwen_03_correct, qwen_07_correct)"
   ]
  },
  {
   "cell_type": "markdown",
   "id": "d8a987f1-debe-45e5-af43-886edfb6977a",
   "metadata": {},
   "source": [
    "DEBATE"
   ]
  },
  {
   "cell_type": "code",
   "execution_count": 158,
   "id": "e4918865-2c0a-4301-81b9-6496162dddcb",
   "metadata": {},
   "outputs": [],
   "source": [
    "history_q07 = []\n",
    "history_q03 = []\n",
    "\n",
    "q07_prev = None\n",
    "q03_prev = None\n",
    "\n",
    "debate_log = []"
   ]
  },
  {
   "cell_type": "code",
   "execution_count": 159,
   "id": "199db530-ff10-48d1-9553-4226d28cc32d",
   "metadata": {},
   "outputs": [
    {
     "name": "stderr",
     "output_type": "stream",
     "text": [
      "Running debates: 100%|██████████| 1000/1000 [1:27:41<00:00,  5.26s/it]\n"
     ]
    }
   ],
   "source": [
    "import json\n",
    "import re\n",
    "from tqdm import tqdm\n",
    "\n",
    "output_path = \"debate_results_for_qwen.jsonl\"\n",
    "max_rounds = 3\n",
    "\n",
    "with open(output_path, \"a\", encoding=\"utf-8\") as outfile:\n",
    "    for data_point in tqdm(data_vqa, desc=\"Running debates\", total=len(data_vqa)):\n",
    "        try:\n",
    "            history_q07 = []\n",
    "            history_q03 = []\n",
    "            debate_log = []\n",
    "\n",
    "            q07_prev = None\n",
    "            q03_prev = None\n",
    "\n",
    "            final_answer = None\n",
    "            consensus = False\n",
    "            rounds_done = 0 \n",
    "\n",
    "            #Round 0 has no peer context\n",
    "            q07_response = chat_with_qwen_vqav2_temp_07(\n",
    "                data_point=data_point,\n",
    "                agent_id=\"Qwen-0.7\",\n",
    "                round_num=0,\n",
    "                own_previous=None,\n",
    "                peer_solutions=None\n",
    "            )\n",
    "            q03_response = chat_with_qwen_vqav2_temp_03(\n",
    "                data_point=data_point,\n",
    "                agent_id=\"Qwen-0.3\",\n",
    "                round_num=0,\n",
    "                own_previous=None,\n",
    "                peer_solutions=None\n",
    "            )\n",
    "\n",
    "            history_q07.append(q07_response)\n",
    "            history_q03.append(q03_response)\n",
    "\n",
    "            debate_log.append({\n",
    "                \"round\": 0,\n",
    "                \"Qwen-0.7\": q07_response,\n",
    "                \"Qwen-0.3\": q03_response,\n",
    "            })\n",
    "\n",
    "            answer1 = re.findall(r'\\{(.*?)\\}', q07_response)\n",
    "            answer2 = re.findall(r'\\{(.*?)\\}', q03_response)\n",
    "            # print(answer1, answer2)\n",
    "            final1 = answer1[0].strip().lower() if answer1 else None\n",
    "            final2 = answer2[0].strip().lower() if answer2 else None\n",
    "            # print(final1, final2)\n",
    "\n",
    "            if final1 and final1 == final2:\n",
    "                consensus = True\n",
    "                final_answer = final1\n",
    "                rounds_done = 0 \n",
    "            else:\n",
    "                # Rounds 1-3 have context (peer answers)\n",
    "                q07_prev = q07_response\n",
    "                q03_prev = q03_response\n",
    "\n",
    "                for round_num in range(1, max_rounds + 1):\n",
    "                    rounds_done = round_num\n",
    "\n",
    "                    q07_response = chat_with_qwen_vqav2_temp_07(\n",
    "                        data_point=data_point,\n",
    "                        agent_id=\"Qwen-0.7\",\n",
    "                        round_num=round_num,\n",
    "                        own_previous=q07_prev,\n",
    "                        peer_solutions=[q03_prev]\n",
    "                    )\n",
    "                    history_q07.append(q07_response)\n",
    "\n",
    "                    q03_response = chat_with_qwen_vqav2_temp_03(\n",
    "                        data_point=data_point,\n",
    "                        agent_id=\"Qwen-0.3\",\n",
    "                        round_num=round_num,\n",
    "                        own_previous=q03_prev,\n",
    "                        peer_solutions=[q07_response]\n",
    "                    )\n",
    "                    history_q03.append(q03_response)\n",
    "\n",
    "                    debate_log.append({\n",
    "                        \"round\": round_num,\n",
    "                        \"Qwen-0.7\": q07_response,\n",
    "                        \"Qwen-0.3\": q03_response,\n",
    "                    })\n",
    "\n",
    "                    q07_prev = q07_response\n",
    "                    q03_prev = q03_response\n",
    "\n",
    "                    answer1 = re.findall(r'\\{(.*?)\\}', q07_response)\n",
    "                    answer2 = re.findall(r'\\{(.*?)\\}', q03_response)\n",
    "                    # print(answer1, answer2, rounds_done)\n",
    "\n",
    "                    final1 = answer1[0].strip().lower() if answer1 else None\n",
    "                    final2 = answer2[0].strip().lower() if answer2 else None\n",
    "\n",
    "                    if final1 and final1 == final2:\n",
    "                        consensus = True\n",
    "                        final_answer = final1\n",
    "                        break  \n",
    "\n",
    "            final_output = {\n",
    "                \"question_id\": data_point[\"question_id\"],\n",
    "                \"multiple_choice_answer\": data_point[\"multiple_choice_answer\"],\n",
    "                \"question\": data_point[\"question\"],\n",
    "                \"image_id\": data_point.get(\"image_id\", None),\n",
    "                \"answer\": final_answer,\n",
    "                \"rounds\": rounds_done,\n",
    "                \"consensus\": consensus,\n",
    "                \"history\": debate_log\n",
    "            }\n",
    "\n",
    "            outfile.write(json.dumps(final_output) + \"\\n\")\n",
    "\n",
    "        except Exception as e:\n",
    "            print(f\"Error processing question_id {data_point.get('question_id', 'unknown')}: {e}\")\n"
   ]
  },
  {
   "cell_type": "code",
   "execution_count": 162,
   "id": "d522ec92-7cda-4881-9739-7305bbab32f0",
   "metadata": {},
   "outputs": [],
   "source": [
    "import json\n",
    "\n",
    "data = []\n",
    "with open('debate_results_for_qwen.jsonl', 'r', encoding='utf-8') as f:\n",
    "    for line in f:\n",
    "        data.append(json.loads(line))\n"
   ]
  },
  {
   "cell_type": "markdown",
   "id": "052d7420-810d-4c6e-83d9-396fb9bb7c33",
   "metadata": {},
   "source": [
    "METRICS"
   ]
  },
  {
   "cell_type": "code",
   "execution_count": 168,
   "id": "e9941d5f-7438-4701-b270-0075f72ecc5d",
   "metadata": {},
   "outputs": [],
   "source": [
    "consensus_correct = 0\n",
    "num_consensus = 0"
   ]
  },
  {
   "cell_type": "code",
   "execution_count": 169,
   "id": "1aef943a-058a-457a-a7a3-832e30f6c52d",
   "metadata": {},
   "outputs": [],
   "source": [
    "for i in data:\n",
    "    if i['consensus']==True:\n",
    "        num_consensus+=1\n",
    "        if i['answer'] == i['multiple_choice_answer']:\n",
    "            consensus_correct+=1"
   ]
  },
  {
   "cell_type": "code",
   "execution_count": 170,
   "id": "2d53d430-57aa-43cb-aa3f-a90383633a54",
   "metadata": {},
   "outputs": [
    {
     "name": "stdout",
     "output_type": "stream",
     "text": [
      "981 548\n"
     ]
    }
   ],
   "source": [
    "print(num_consensus, consensus_correct)"
   ]
  },
  {
   "cell_type": "markdown",
   "id": "fa7cdbe8-e3aa-4e47-9ec7-17d76d30073c",
   "metadata": {},
   "source": [
    "981/1000 consensus\n",
    "548/1000 consensus are correct"
   ]
  }
 ],
 "metadata": {
  "kernelspec": {
   "display_name": "Python 3 (ipykernel)",
   "language": "python",
   "name": "python3"
  },
  "language_info": {
   "codemirror_mode": {
    "name": "ipython",
    "version": 3
   },
   "file_extension": ".py",
   "mimetype": "text/x-python",
   "name": "python",
   "nbconvert_exporter": "python",
   "pygments_lexer": "ipython3",
   "version": "3.11.12"
  }
 },
 "nbformat": 4,
 "nbformat_minor": 5
}
